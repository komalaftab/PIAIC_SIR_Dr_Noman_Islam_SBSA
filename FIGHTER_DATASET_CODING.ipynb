{
 "cells": [
  {
   "cell_type": "code",
   "execution_count": 1,
   "metadata": {},
   "outputs": [],
   "source": [
    "#IMPORT LIBRARY\n",
    "import pandas as pd"
   ]
  },
  {
   "cell_type": "code",
   "execution_count": 2,
   "metadata": {},
   "outputs": [
    {
     "data": {
      "text/html": [
       "<div>\n",
       "<style scoped>\n",
       "    .dataframe tbody tr th:only-of-type {\n",
       "        vertical-align: middle;\n",
       "    }\n",
       "\n",
       "    .dataframe tbody tr th {\n",
       "        vertical-align: top;\n",
       "    }\n",
       "\n",
       "    .dataframe thead th {\n",
       "        text-align: right;\n",
       "    }\n",
       "</style>\n",
       "<table border=\"1\" class=\"dataframe\">\n",
       "  <thead>\n",
       "    <tr style=\"text-align: right;\">\n",
       "      <th></th>\n",
       "      <th>R_fighter</th>\n",
       "      <th>B_fighter</th>\n",
       "      <th>R_KD</th>\n",
       "      <th>B_KD</th>\n",
       "      <th>R_SIG_STR.</th>\n",
       "      <th>B_SIG_STR.</th>\n",
       "      <th>R_SIG_STR_pct</th>\n",
       "      <th>B_SIG_STR_pct</th>\n",
       "      <th>R_TOTAL_STR.</th>\n",
       "      <th>B_TOTAL_STR.</th>\n",
       "      <th>...</th>\n",
       "      <th>B_GROUND</th>\n",
       "      <th>win_by</th>\n",
       "      <th>last_round</th>\n",
       "      <th>last_round_time</th>\n",
       "      <th>Format</th>\n",
       "      <th>Referee</th>\n",
       "      <th>date</th>\n",
       "      <th>location</th>\n",
       "      <th>Fight_type</th>\n",
       "      <th>Winner</th>\n",
       "    </tr>\n",
       "  </thead>\n",
       "  <tbody>\n",
       "    <tr>\n",
       "      <td>0</td>\n",
       "      <td>Henry Cejudo</td>\n",
       "      <td>Marlon Moraes</td>\n",
       "      <td>0</td>\n",
       "      <td>0</td>\n",
       "      <td>90 of 171</td>\n",
       "      <td>57 of 119</td>\n",
       "      <td>52%</td>\n",
       "      <td>47%</td>\n",
       "      <td>99 of 182</td>\n",
       "      <td>59 of 121</td>\n",
       "      <td>...</td>\n",
       "      <td>1 of 1</td>\n",
       "      <td>KO/TKO</td>\n",
       "      <td>3</td>\n",
       "      <td>4:51</td>\n",
       "      <td>5 Rnd (5-5-5-5-5)</td>\n",
       "      <td>Marc Goddard</td>\n",
       "      <td>June 08, 2019</td>\n",
       "      <td>Chicago, Illinois, USA</td>\n",
       "      <td>UFC Bantamweight Title Bout</td>\n",
       "      <td>Henry Cejudo</td>\n",
       "    </tr>\n",
       "    <tr>\n",
       "      <td>1</td>\n",
       "      <td>Valentina Shevchenko</td>\n",
       "      <td>Jessica Eye</td>\n",
       "      <td>1</td>\n",
       "      <td>0</td>\n",
       "      <td>8 of 11</td>\n",
       "      <td>2 of 12</td>\n",
       "      <td>72%</td>\n",
       "      <td>16%</td>\n",
       "      <td>37 of 40</td>\n",
       "      <td>42 of 52</td>\n",
       "      <td>...</td>\n",
       "      <td>0 of 0</td>\n",
       "      <td>KO/TKO</td>\n",
       "      <td>2</td>\n",
       "      <td>0:26</td>\n",
       "      <td>5 Rnd (5-5-5-5-5)</td>\n",
       "      <td>Robert Madrigal</td>\n",
       "      <td>June 08, 2019</td>\n",
       "      <td>Chicago, Illinois, USA</td>\n",
       "      <td>UFC Women's Flyweight Title Bout</td>\n",
       "      <td>Valentina Shevchenko</td>\n",
       "    </tr>\n",
       "    <tr>\n",
       "      <td>2</td>\n",
       "      <td>Tony Ferguson</td>\n",
       "      <td>Donald Cerrone</td>\n",
       "      <td>0</td>\n",
       "      <td>0</td>\n",
       "      <td>104 of 200</td>\n",
       "      <td>68 of 185</td>\n",
       "      <td>52%</td>\n",
       "      <td>36%</td>\n",
       "      <td>104 of 200</td>\n",
       "      <td>68 of 185</td>\n",
       "      <td>...</td>\n",
       "      <td>0 of 0</td>\n",
       "      <td>TKO - Doctor's Stoppage</td>\n",
       "      <td>2</td>\n",
       "      <td>5:00</td>\n",
       "      <td>3 Rnd (5-5-5)</td>\n",
       "      <td>Dan Miragliotta</td>\n",
       "      <td>June 08, 2019</td>\n",
       "      <td>Chicago, Illinois, USA</td>\n",
       "      <td>Lightweight Bout</td>\n",
       "      <td>Tony Ferguson</td>\n",
       "    </tr>\n",
       "    <tr>\n",
       "      <td>3</td>\n",
       "      <td>Jimmie Rivera</td>\n",
       "      <td>Petr Yan</td>\n",
       "      <td>0</td>\n",
       "      <td>2</td>\n",
       "      <td>73 of 192</td>\n",
       "      <td>56 of 189</td>\n",
       "      <td>38%</td>\n",
       "      <td>29%</td>\n",
       "      <td>76 of 195</td>\n",
       "      <td>58 of 192</td>\n",
       "      <td>...</td>\n",
       "      <td>4 of 10</td>\n",
       "      <td>Decision - Unanimous</td>\n",
       "      <td>3</td>\n",
       "      <td>5:00</td>\n",
       "      <td>3 Rnd (5-5-5)</td>\n",
       "      <td>Kevin MacDonald</td>\n",
       "      <td>June 08, 2019</td>\n",
       "      <td>Chicago, Illinois, USA</td>\n",
       "      <td>Bantamweight Bout</td>\n",
       "      <td>Petr Yan</td>\n",
       "    </tr>\n",
       "    <tr>\n",
       "      <td>4</td>\n",
       "      <td>Tai Tuivasa</td>\n",
       "      <td>Blagoy Ivanov</td>\n",
       "      <td>0</td>\n",
       "      <td>1</td>\n",
       "      <td>64 of 144</td>\n",
       "      <td>73 of 123</td>\n",
       "      <td>44%</td>\n",
       "      <td>59%</td>\n",
       "      <td>66 of 146</td>\n",
       "      <td>81 of 131</td>\n",
       "      <td>...</td>\n",
       "      <td>6 of 6</td>\n",
       "      <td>Decision - Unanimous</td>\n",
       "      <td>3</td>\n",
       "      <td>5:00</td>\n",
       "      <td>3 Rnd (5-5-5)</td>\n",
       "      <td>Dan Miragliotta</td>\n",
       "      <td>June 08, 2019</td>\n",
       "      <td>Chicago, Illinois, USA</td>\n",
       "      <td>Heavyweight Bout</td>\n",
       "      <td>Blagoy Ivanov</td>\n",
       "    </tr>\n",
       "    <tr>\n",
       "      <td>...</td>\n",
       "      <td>...</td>\n",
       "      <td>...</td>\n",
       "      <td>...</td>\n",
       "      <td>...</td>\n",
       "      <td>...</td>\n",
       "      <td>...</td>\n",
       "      <td>...</td>\n",
       "      <td>...</td>\n",
       "      <td>...</td>\n",
       "      <td>...</td>\n",
       "      <td>...</td>\n",
       "      <td>...</td>\n",
       "      <td>...</td>\n",
       "      <td>...</td>\n",
       "      <td>...</td>\n",
       "      <td>...</td>\n",
       "      <td>...</td>\n",
       "      <td>...</td>\n",
       "      <td>...</td>\n",
       "      <td>...</td>\n",
       "      <td>...</td>\n",
       "    </tr>\n",
       "    <tr>\n",
       "      <td>5139</td>\n",
       "      <td>Gerard Gordeau</td>\n",
       "      <td>Kevin Rosier</td>\n",
       "      <td>1</td>\n",
       "      <td>0</td>\n",
       "      <td>11 of 17</td>\n",
       "      <td>0 of 3</td>\n",
       "      <td>64%</td>\n",
       "      <td>0%</td>\n",
       "      <td>11 of 17</td>\n",
       "      <td>0 of 3</td>\n",
       "      <td>...</td>\n",
       "      <td>0 of 0</td>\n",
       "      <td>KO/TKO</td>\n",
       "      <td>1</td>\n",
       "      <td>0:59</td>\n",
       "      <td>No Time Limit</td>\n",
       "      <td>Joao Alberto Barreto</td>\n",
       "      <td>November 12, 1993</td>\n",
       "      <td>Denver, Colorado, USA</td>\n",
       "      <td>Open Weight Bout</td>\n",
       "      <td>Gerard Gordeau</td>\n",
       "    </tr>\n",
       "    <tr>\n",
       "      <td>5140</td>\n",
       "      <td>Ken Shamrock</td>\n",
       "      <td>Patrick Smith</td>\n",
       "      <td>0</td>\n",
       "      <td>0</td>\n",
       "      <td>1 of 1</td>\n",
       "      <td>4 of 8</td>\n",
       "      <td>100%</td>\n",
       "      <td>50%</td>\n",
       "      <td>4 of 4</td>\n",
       "      <td>16 of 20</td>\n",
       "      <td>...</td>\n",
       "      <td>2 of 6</td>\n",
       "      <td>Submission</td>\n",
       "      <td>1</td>\n",
       "      <td>1:49</td>\n",
       "      <td>No Time Limit</td>\n",
       "      <td>Joao Alberto Barreto</td>\n",
       "      <td>November 12, 1993</td>\n",
       "      <td>Denver, Colorado, USA</td>\n",
       "      <td>Open Weight Bout</td>\n",
       "      <td>Ken Shamrock</td>\n",
       "    </tr>\n",
       "    <tr>\n",
       "      <td>5141</td>\n",
       "      <td>Royce Gracie</td>\n",
       "      <td>Art Jimmerson</td>\n",
       "      <td>0</td>\n",
       "      <td>0</td>\n",
       "      <td>0 of 3</td>\n",
       "      <td>0 of 0</td>\n",
       "      <td>0%</td>\n",
       "      <td>0%</td>\n",
       "      <td>4 of 7</td>\n",
       "      <td>0 of 0</td>\n",
       "      <td>...</td>\n",
       "      <td>0 of 0</td>\n",
       "      <td>Submission</td>\n",
       "      <td>1</td>\n",
       "      <td>2:18</td>\n",
       "      <td>No Time Limit</td>\n",
       "      <td>Joao Alberto Barreto</td>\n",
       "      <td>November 12, 1993</td>\n",
       "      <td>Denver, Colorado, USA</td>\n",
       "      <td>Open Weight Bout</td>\n",
       "      <td>Royce Gracie</td>\n",
       "    </tr>\n",
       "    <tr>\n",
       "      <td>5142</td>\n",
       "      <td>Kevin Rosier</td>\n",
       "      <td>Zane Frazier</td>\n",
       "      <td>2</td>\n",
       "      <td>0</td>\n",
       "      <td>15 of 27</td>\n",
       "      <td>12 of 28</td>\n",
       "      <td>55%</td>\n",
       "      <td>42%</td>\n",
       "      <td>38 of 53</td>\n",
       "      <td>13 of 29</td>\n",
       "      <td>...</td>\n",
       "      <td>2 of 2</td>\n",
       "      <td>KO/TKO</td>\n",
       "      <td>1</td>\n",
       "      <td>4:20</td>\n",
       "      <td>No Time Limit</td>\n",
       "      <td>Joao Alberto Barreto</td>\n",
       "      <td>November 12, 1993</td>\n",
       "      <td>Denver, Colorado, USA</td>\n",
       "      <td>Open Weight Bout</td>\n",
       "      <td>Kevin Rosier</td>\n",
       "    </tr>\n",
       "    <tr>\n",
       "      <td>5143</td>\n",
       "      <td>Gerard Gordeau</td>\n",
       "      <td>Teila Tuli</td>\n",
       "      <td>0</td>\n",
       "      <td>0</td>\n",
       "      <td>3 of 5</td>\n",
       "      <td>0 of 1</td>\n",
       "      <td>60%</td>\n",
       "      <td>0%</td>\n",
       "      <td>3 of 5</td>\n",
       "      <td>0 of 1</td>\n",
       "      <td>...</td>\n",
       "      <td>0 of 0</td>\n",
       "      <td>KO/TKO</td>\n",
       "      <td>1</td>\n",
       "      <td>0:26</td>\n",
       "      <td>No Time Limit</td>\n",
       "      <td>Joao Alberto Barreto</td>\n",
       "      <td>November 12, 1993</td>\n",
       "      <td>Denver, Colorado, USA</td>\n",
       "      <td>Open Weight Bout</td>\n",
       "      <td>Gerard Gordeau</td>\n",
       "    </tr>\n",
       "  </tbody>\n",
       "</table>\n",
       "<p>5144 rows × 41 columns</p>\n",
       "</div>"
      ],
      "text/plain": [
       "                 R_fighter       B_fighter  R_KD  B_KD  R_SIG_STR. B_SIG_STR.  \\\n",
       "0             Henry Cejudo   Marlon Moraes     0     0   90 of 171  57 of 119   \n",
       "1     Valentina Shevchenko     Jessica Eye     1     0     8 of 11    2 of 12   \n",
       "2            Tony Ferguson  Donald Cerrone     0     0  104 of 200  68 of 185   \n",
       "3            Jimmie Rivera        Petr Yan     0     2   73 of 192  56 of 189   \n",
       "4              Tai Tuivasa   Blagoy Ivanov     0     1   64 of 144  73 of 123   \n",
       "...                    ...             ...   ...   ...         ...        ...   \n",
       "5139        Gerard Gordeau    Kevin Rosier     1     0    11 of 17     0 of 3   \n",
       "5140          Ken Shamrock   Patrick Smith     0     0      1 of 1     4 of 8   \n",
       "5141          Royce Gracie   Art Jimmerson     0     0      0 of 3     0 of 0   \n",
       "5142          Kevin Rosier    Zane Frazier     2     0    15 of 27   12 of 28   \n",
       "5143        Gerard Gordeau      Teila Tuli     0     0      3 of 5     0 of 1   \n",
       "\n",
       "     R_SIG_STR_pct B_SIG_STR_pct R_TOTAL_STR. B_TOTAL_STR.  ... B_GROUND  \\\n",
       "0              52%           47%    99 of 182    59 of 121  ...   1 of 1   \n",
       "1              72%           16%     37 of 40     42 of 52  ...   0 of 0   \n",
       "2              52%           36%   104 of 200    68 of 185  ...   0 of 0   \n",
       "3              38%           29%    76 of 195    58 of 192  ...  4 of 10   \n",
       "4              44%           59%    66 of 146    81 of 131  ...   6 of 6   \n",
       "...            ...           ...          ...          ...  ...      ...   \n",
       "5139           64%            0%     11 of 17       0 of 3  ...   0 of 0   \n",
       "5140          100%           50%       4 of 4     16 of 20  ...   2 of 6   \n",
       "5141            0%            0%       4 of 7       0 of 0  ...   0 of 0   \n",
       "5142           55%           42%     38 of 53     13 of 29  ...   2 of 2   \n",
       "5143           60%            0%       3 of 5       0 of 1  ...   0 of 0   \n",
       "\n",
       "                       win_by last_round last_round_time             Format  \\\n",
       "0                      KO/TKO          3            4:51  5 Rnd (5-5-5-5-5)   \n",
       "1                      KO/TKO          2            0:26  5 Rnd (5-5-5-5-5)   \n",
       "2     TKO - Doctor's Stoppage          2            5:00      3 Rnd (5-5-5)   \n",
       "3        Decision - Unanimous          3            5:00      3 Rnd (5-5-5)   \n",
       "4        Decision - Unanimous          3            5:00      3 Rnd (5-5-5)   \n",
       "...                       ...        ...             ...                ...   \n",
       "5139                   KO/TKO          1            0:59      No Time Limit   \n",
       "5140               Submission          1            1:49      No Time Limit   \n",
       "5141               Submission          1            2:18      No Time Limit   \n",
       "5142                   KO/TKO          1            4:20      No Time Limit   \n",
       "5143                   KO/TKO          1            0:26      No Time Limit   \n",
       "\n",
       "                   Referee               date                location  \\\n",
       "0             Marc Goddard      June 08, 2019  Chicago, Illinois, USA   \n",
       "1          Robert Madrigal      June 08, 2019  Chicago, Illinois, USA   \n",
       "2          Dan Miragliotta      June 08, 2019  Chicago, Illinois, USA   \n",
       "3          Kevin MacDonald      June 08, 2019  Chicago, Illinois, USA   \n",
       "4          Dan Miragliotta      June 08, 2019  Chicago, Illinois, USA   \n",
       "...                    ...                ...                     ...   \n",
       "5139  Joao Alberto Barreto  November 12, 1993   Denver, Colorado, USA   \n",
       "5140  Joao Alberto Barreto  November 12, 1993   Denver, Colorado, USA   \n",
       "5141  Joao Alberto Barreto  November 12, 1993   Denver, Colorado, USA   \n",
       "5142  Joao Alberto Barreto  November 12, 1993   Denver, Colorado, USA   \n",
       "5143  Joao Alberto Barreto  November 12, 1993   Denver, Colorado, USA   \n",
       "\n",
       "                            Fight_type                Winner  \n",
       "0          UFC Bantamweight Title Bout          Henry Cejudo  \n",
       "1     UFC Women's Flyweight Title Bout  Valentina Shevchenko  \n",
       "2                     Lightweight Bout         Tony Ferguson  \n",
       "3                    Bantamweight Bout              Petr Yan  \n",
       "4                     Heavyweight Bout         Blagoy Ivanov  \n",
       "...                                ...                   ...  \n",
       "5139                  Open Weight Bout        Gerard Gordeau  \n",
       "5140                  Open Weight Bout          Ken Shamrock  \n",
       "5141                  Open Weight Bout          Royce Gracie  \n",
       "5142                  Open Weight Bout          Kevin Rosier  \n",
       "5143                  Open Weight Bout        Gerard Gordeau  \n",
       "\n",
       "[5144 rows x 41 columns]"
      ]
     },
     "execution_count": 2,
     "metadata": {},
     "output_type": "execute_result"
    }
   ],
   "source": [
    "data = pd.read_csv(\"raw_total_fight_data.csv\",sep=\";\")\n",
    "data"
   ]
  },
  {
   "cell_type": "code",
   "execution_count": 3,
   "metadata": {},
   "outputs": [],
   "source": [
    "#Column definitions:\n",
    "#R_ and B_ prefix signifies red and blue corner fighter stats respectively\n",
    "#_opp_ containing columns is the average of damage done by the opponent on the fighter\n",
    "#KD is number of knockdowns\n",
    "#SIG_STR is no. of significant strikes 'landed of attempted'\n",
    "#SIG_STR_pct is significant strikes percentage\n",
    "#TOTAL_STR is total strikes 'landed of attempted'\n",
    "#TD is no. of takedowns\n",
    "#TD_pct is takedown percentages\n",
    "#SUB_ATT is no. of submission attempts\n",
    "#PASS is no. times the guard was passed?\n",
    "#REV is the no. of Reversals landed\n",
    "#HEAD is no. of significant strinks to the head 'landed of attempted'\n",
    "#BODY is no. of significant strikes to the body 'landed of attempted'\n",
    "#CLINCH is no. of significant strikes in the clinch 'landed of attempted'\n",
    "#GROUND is no. of significant strikes on the ground 'landed of attempted'\n",
    "#win_by is method of win\n",
    "#last_round is last round of the fight (ex. if it was a KO in 1st, then this will be 1)\n",
    "#last_round_time is when the fight ended in the last round\n",
    "#Format is the format of the fight (3 rounds, 5 rounds etc.)\n",
    "#Referee is the name of the Ref\n",
    "#date is the date of the fight\n",
    "#location is the location in which the event took place\n",
    "#Fight_type is which weight class and whether it's a title bout or not\n",
    "#Winner is the winner of the fight\n",
    "#Stance is the stance of the fighter (orthodox, southpaw, etc.)\n",
    "#Height_cms is the height in centimeter\n",
    "#Reach_cms is the reach of the fighter (arm span) in centimeter\n",
    "#Weight_lbs is the weight of the fighter in pounds (lbs)\n",
    "#age is the age of the fighter\n",
    "#title_bout Boolean value of whether it is title fight or not\n",
    "#weight_class is which weight class the fight is in (Bantamweight, heavyweight, Women's flyweight, etc.)\n",
    "#no_of_rounds is the number of rounds the fight was scheduled for\n",
    "#current_lose_streak is the count of current concurrent losses of the fighter\n",
    "#current_win_streak is the count of current concurrent wins of the fighter\n",
    "#draw is the number of draws in the fighter's ufc career\n",
    "#wins is the number of wins in the fighter's ufc career\n",
    "#losses is the number of losses in the fighter's ufc career\n",
    "#total_rounds_fought is the average of total rounds fought by the fighter\n",
    "#total_time_fought(seconds) is the count of total time spent fighting in seconds\n",
    "#total_title_bouts is the total number of title bouts taken part in by the fighter\n",
    "#win_by_Decision_Majority is the number of wins by majority judges decision in the fighter's ufc career\n",
    "#win_by_Decision_Split is the number of wins by split judges decision in the fighter's ufc career\n",
    "#win_by_Decision_Unanimous is the number of wins by unanimous judges decision in the fighter's ufc career\n",
    "#win_by_KO/TKO is the number of wins by knockout in the fighter's ufc career\n",
    "#win_by_Submission is the number of wins by submission in the fighter's ufc career\n",
    "#win_by_TKO_Doctor_Stoppage is the number of wins by doctor stoppage in the fighter's ufc career'''"
   ]
  },
  {
   "cell_type": "code",
   "execution_count": 4,
   "metadata": {},
   "outputs": [
    {
     "data": {
      "text/plain": [
       "Index(['R_fighter', 'B_fighter', 'R_KD', 'B_KD', 'R_SIG_STR.', 'B_SIG_STR.',\n",
       "       'R_SIG_STR_pct', 'B_SIG_STR_pct', 'R_TOTAL_STR.', 'B_TOTAL_STR.',\n",
       "       'R_TD', 'B_TD', 'R_TD_pct', 'B_TD_pct', 'R_SUB_ATT', 'B_SUB_ATT',\n",
       "       'R_PASS', 'B_PASS', 'R_REV', 'B_REV', 'R_HEAD', 'B_HEAD', 'R_BODY',\n",
       "       'B_BODY', 'R_LEG', 'B_LEG', 'R_DISTANCE', 'B_DISTANCE', 'R_CLINCH',\n",
       "       'B_CLINCH', 'R_GROUND', 'B_GROUND', 'win_by', 'last_round',\n",
       "       'last_round_time', 'Format', 'Referee', 'date', 'location',\n",
       "       'Fight_type', 'Winner'],\n",
       "      dtype='object')"
      ]
     },
     "execution_count": 4,
     "metadata": {},
     "output_type": "execute_result"
    }
   ],
   "source": [
    "data.columns"
   ]
  },
  {
   "cell_type": "code",
   "execution_count": 5,
   "metadata": {},
   "outputs": [
    {
     "data": {
      "text/plain": [
       "R_fighter                         Henry Cejudo\n",
       "B_fighter                        Marlon Moraes\n",
       "R_KD                                         0\n",
       "B_KD                                         0\n",
       "R_SIG_STR.                           90 of 171\n",
       "B_SIG_STR.                           57 of 119\n",
       "R_SIG_STR_pct                              52%\n",
       "B_SIG_STR_pct                              47%\n",
       "R_TOTAL_STR.                         99 of 182\n",
       "B_TOTAL_STR.                         59 of 121\n",
       "R_TD                                    1 of 4\n",
       "B_TD                                    0 of 2\n",
       "R_TD_pct                                   25%\n",
       "B_TD_pct                                    0%\n",
       "R_SUB_ATT                                    1\n",
       "B_SUB_ATT                                    0\n",
       "R_PASS                                       1\n",
       "B_PASS                                       0\n",
       "R_REV                                        0\n",
       "B_REV                                        0\n",
       "R_HEAD                               73 of 150\n",
       "B_HEAD                                35 of 89\n",
       "R_BODY                                13 of 16\n",
       "B_BODY                                  7 of 8\n",
       "R_LEG                                   4 of 5\n",
       "B_LEG                                 15 of 22\n",
       "R_DISTANCE                           45 of 118\n",
       "B_DISTANCE                           54 of 116\n",
       "R_CLINCH                              19 of 23\n",
       "B_CLINCH                                2 of 2\n",
       "R_GROUND                              26 of 30\n",
       "B_GROUND                                1 of 1\n",
       "win_by                                  KO/TKO\n",
       "last_round                                   3\n",
       "last_round_time                           4:51\n",
       "Format                       5 Rnd (5-5-5-5-5)\n",
       "Referee                           Marc Goddard\n",
       "date                             June 08, 2019\n",
       "location                Chicago, Illinois, USA\n",
       "Fight_type         UFC Bantamweight Title Bout\n",
       "Winner                            Henry Cejudo\n",
       "Name: 0, dtype: object"
      ]
     },
     "execution_count": 5,
     "metadata": {},
     "output_type": "execute_result"
    }
   ],
   "source": [
    "data.iloc[0]"
   ]
  },
  {
   "cell_type": "code",
   "execution_count": 6,
   "metadata": {},
   "outputs": [
    {
     "data": {
      "text/plain": [
       "0"
      ]
     },
     "execution_count": 6,
     "metadata": {},
     "output_type": "execute_result"
    }
   ],
   "source": [
    "data['R_SIG_STR.'].isnull().sum()"
   ]
  },
  {
   "cell_type": "code",
   "execution_count": 7,
   "metadata": {},
   "outputs": [],
   "source": [
    "data['R_SIG_STR._att'] = data['R_SIG_STR.'].apply(lambda x : int(x.split('of')[-1]))\n",
    "data['R_SIG_STR._landed'] = data['R_SIG_STR.'].apply(lambda x : int(x.split('of')[0]))"
   ]
  },
  {
   "cell_type": "code",
   "execution_count": 8,
   "metadata": {},
   "outputs": [],
   "source": [
    "data.drop(\"R_SIG_STR.\",axis=1,inplace=True)"
   ]
  },
  {
   "cell_type": "code",
   "execution_count": 9,
   "metadata": {},
   "outputs": [
    {
     "data": {
      "text/plain": [
       "R_fighter                           Henry Cejudo\n",
       "B_fighter                          Marlon Moraes\n",
       "R_KD                                           0\n",
       "B_KD                                           0\n",
       "B_SIG_STR.                             57 of 119\n",
       "R_SIG_STR_pct                                52%\n",
       "B_SIG_STR_pct                                47%\n",
       "R_TOTAL_STR.                           99 of 182\n",
       "B_TOTAL_STR.                           59 of 121\n",
       "R_TD                                      1 of 4\n",
       "B_TD                                      0 of 2\n",
       "R_TD_pct                                     25%\n",
       "B_TD_pct                                      0%\n",
       "R_SUB_ATT                                      1\n",
       "B_SUB_ATT                                      0\n",
       "R_PASS                                         1\n",
       "B_PASS                                         0\n",
       "R_REV                                          0\n",
       "B_REV                                          0\n",
       "R_HEAD                                 73 of 150\n",
       "B_HEAD                                  35 of 89\n",
       "R_BODY                                  13 of 16\n",
       "B_BODY                                    7 of 8\n",
       "R_LEG                                     4 of 5\n",
       "B_LEG                                   15 of 22\n",
       "R_DISTANCE                             45 of 118\n",
       "B_DISTANCE                             54 of 116\n",
       "R_CLINCH                                19 of 23\n",
       "B_CLINCH                                  2 of 2\n",
       "R_GROUND                                26 of 30\n",
       "B_GROUND                                  1 of 1\n",
       "win_by                                    KO/TKO\n",
       "last_round                                     3\n",
       "last_round_time                             4:51\n",
       "Format                         5 Rnd (5-5-5-5-5)\n",
       "Referee                             Marc Goddard\n",
       "date                               June 08, 2019\n",
       "location                  Chicago, Illinois, USA\n",
       "Fight_type           UFC Bantamweight Title Bout\n",
       "Winner                              Henry Cejudo\n",
       "R_SIG_STR._att                               171\n",
       "R_SIG_STR._landed                             90\n",
       "Name: 0, dtype: object"
      ]
     },
     "execution_count": 9,
     "metadata": {},
     "output_type": "execute_result"
    }
   ],
   "source": [
    "data.iloc[0]"
   ]
  },
  {
   "cell_type": "code",
   "execution_count": 10,
   "metadata": {},
   "outputs": [
    {
     "data": {
      "text/plain": [
       "0"
      ]
     },
     "execution_count": 10,
     "metadata": {},
     "output_type": "execute_result"
    }
   ],
   "source": [
    "data['R_SIG_STR_pct'].isnull().sum()"
   ]
  },
  {
   "cell_type": "code",
   "execution_count": 11,
   "metadata": {},
   "outputs": [],
   "source": [
    "data['R_SIG_STR_pct'] = data['R_SIG_STR_pct'].apply(lambda X: float(X.replace('%', ''))/100)"
   ]
  },
  {
   "cell_type": "code",
   "execution_count": 12,
   "metadata": {},
   "outputs": [
    {
     "data": {
      "text/plain": [
       "0       0.52\n",
       "1       0.72\n",
       "2       0.52\n",
       "3       0.38\n",
       "4       0.44\n",
       "        ... \n",
       "5139    0.64\n",
       "5140    1.00\n",
       "5141    0.00\n",
       "5142    0.55\n",
       "5143    0.60\n",
       "Name: R_SIG_STR_pct, Length: 5144, dtype: float64"
      ]
     },
     "execution_count": 12,
     "metadata": {},
     "output_type": "execute_result"
    }
   ],
   "source": [
    "data['R_SIG_STR_pct']"
   ]
  },
  {
   "cell_type": "code",
   "execution_count": 13,
   "metadata": {},
   "outputs": [
    {
     "data": {
      "text/plain": [
       "<matplotlib.axes._subplots.AxesSubplot at 0x240f33bf088>"
      ]
     },
     "execution_count": 13,
     "metadata": {},
     "output_type": "execute_result"
    }
   ],
   "source": [
    "data['R_SIG_STR_pct'].hist()"
   ]
  },
  {
   "cell_type": "code",
   "execution_count": 14,
   "metadata": {},
   "outputs": [
    {
     "data": {
      "text/plain": [
       "83"
      ]
     },
     "execution_count": 14,
     "metadata": {},
     "output_type": "execute_result"
    }
   ],
   "source": [
    "data['Winner'].isnull().sum()"
   ]
  },
  {
   "cell_type": "code",
   "execution_count": 15,
   "metadata": {},
   "outputs": [],
   "source": [
    "data['Winner'].fillna('Draw', inplace=True)"
   ]
  },
  {
   "cell_type": "code",
   "execution_count": 16,
   "metadata": {},
   "outputs": [],
   "source": [
    "def get_renamed_winner(row):\n",
    "    if row['R_fighter'] == row['Winner']:\n",
    "        return 'Red'\n",
    "    elif row['B_fighter'] == row['Winner']:\n",
    "        return 'Blue'\n",
    "    elif row['Winner'] == 'Draw':\n",
    "        return 'Draw'\n",
    "\n",
    "data['Winner'] = data[['R_fighter', 'B_fighter', 'Winner']].apply(get_renamed_winner, axis=1)"
   ]
  },
  {
   "cell_type": "code",
   "execution_count": 17,
   "metadata": {},
   "outputs": [
    {
     "data": {
      "text/plain": [
       "Red     3470\n",
       "Blue    1591\n",
       "Draw      83\n",
       "Name: Winner, dtype: int64"
      ]
     },
     "execution_count": 17,
     "metadata": {},
     "output_type": "execute_result"
    }
   ],
   "source": [
    "data['Winner'].value_counts()"
   ]
  },
  {
   "cell_type": "code",
   "execution_count": 18,
   "metadata": {},
   "outputs": [],
   "source": [
    "import matplotlib.pyplot as plt"
   ]
  },
  {
   "cell_type": "code",
   "execution_count": 19,
   "metadata": {},
   "outputs": [
    {
     "data": {
      "image/png": "[encoded data removed]",
      "text/plain": [
       "<Figure size 432x288 with 1 Axes>"
      ]
     },
     "metadata": {},
     "output_type": "display_data"
    }
   ],
   "source": [
    "data['Winner'].value_counts().plot.pie(explode=[0.05,0.05,0.02],shadow=True,autopct='%1.1f%%')\n",
    "plt.show()"
   ]
  },
  {
   "cell_type": "code",
   "execution_count": 20,
   "metadata": {},
   "outputs": [],
   "source": [
    "import seaborn as sns\n",
    "import numpy as np"
   ]
  },
  {
   "cell_type": "code",
   "execution_count": 21,
   "metadata": {},
   "outputs": [
    {
     "data": {
      "image/png": "[encoded data removed]",
      "text/plain": [
       "<Figure size 720x360 with 2 Axes>"
      ]
     },
     "metadata": {
      "needs_background": "light"
     },
     "output_type": "display_data"
    }
   ],
   "source": [
    "plt.figure(figsize=(10, 5))\n",
    "sns.heatmap(data.corr(), annot=True, linewidths=.5, fmt= '.1f')\n",
    "plt.show()"
   ]
  },
  {
   "cell_type": "code",
   "execution_count": 22,
   "metadata": {},
   "outputs": [
    {
     "data": {
      "image/png": "[encoded data removed]",
      "text/plain": [
       "<Figure size 720x360 with 2 Axes>"
      ]
     },
     "metadata": {
      "needs_background": "light"
     },
     "output_type": "display_data"
    }
   ],
   "source": [
    "plt.figure(figsize=(10,5))\n",
    "mask = np.zeros_like(data.corr())\n",
    "mask[np.triu_indices_from(mask)] = True\n",
    "sns.heatmap(data.corr(),mask=mask,annot=True,cmap=\"YlGnBu\", fmt= '.1f',cbar_kws={\"shrink\": 0.5})\n",
    "plt.show()"
   ]
  },
  {
   "cell_type": "code",
   "execution_count": null,
   "metadata": {},
   "outputs": [],
   "source": []
  }
 ],
 "metadata": {
  "kernelspec": {
   "display_name": "Python 3",
   "language": "python",
   "name": "python3"
  },
  "language_info": {
   "codemirror_mode": {
    "name": "ipython",
    "version": 3
   },
   "file_extension": ".py",
   "mimetype": "text/x-python",
   "name": "python",
   "nbconvert_exporter": "python",
   "pygments_lexer": "ipython3",
   "version": "3.7.4"
  }
 },
 "nbformat": 4,
 "nbformat_minor": 2
}
